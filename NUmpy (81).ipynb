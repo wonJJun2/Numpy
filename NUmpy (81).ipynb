{
 "cells": [
  {
   "cell_type": "code",
   "execution_count": null,
   "metadata": {},
   "outputs": [],
   "source": [
    "# Create date sequence\n",
    "import numpy as np\n",
    "dates = np.arange(np.datetime64('2018-02-01'), np.datetime64('2018-02-10'))\n",
    "print(dates)\n",
    "\n",
    "# output\n",
    "['2018-02-01' '2018-02-02' '2018-02-03' '2018-02-04' '2018-02-05'\n",
    "  '2018-02-06' '2018-02-07' '2018-02-08' '2018-02-09']\n",
    "\n",
    "# Check if its a business day\n",
    "np.is_busday(dates)\n",
    "\n",
    "# output\n",
    "array([ True,  True, False, False,  True,  True,  True,  True,  True], dtype=bool)"
   ]
  }
 ],
 "metadata": {
  "language_info": {
   "name": "python"
  },
  "orig_nbformat": 4
 },
 "nbformat": 4,
 "nbformat_minor": 2
}

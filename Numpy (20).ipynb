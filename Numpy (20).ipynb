{
 "cells": [
  {
   "cell_type": "code",
   "execution_count": null,
   "metadata": {},
   "outputs": [],
   "source": [
    "# Input\n",
    "arr = np.arange(9).reshape(3,3)\n",
    "\n",
    "# 1:\n",
    "rand_arr = np.random.randint(low=5, high=10, size=(5,3)) + np.random.random((5,3))\n",
    "# print(rand_arr)\n",
    "\n",
    "# 2:\n",
    "rand_arr = np.random.uniform(5,10, size=(5,3))\n",
    "print(rand_arr)\n",
    "\n",
    "# output\n",
    "[[ 8.50061025  9.10531502  6.85867783]\n",
    " [ 9.76262069  9.87717411  7.13466701]\n",
    " [ 7.48966403  8.33409158  6.16808631]\n",
    " [ 7.75010551  9.94535696  5.27373226]\n",
    " [ 8.0850361   5.56165518  7.31244004]]"
   ]
  }
 ],
 "metadata": {
  "language_info": {
   "name": "python"
  },
  "orig_nbformat": 4
 },
 "nbformat": 4,
 "nbformat_minor": 2
}

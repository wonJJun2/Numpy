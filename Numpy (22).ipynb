{
 "cells": [
  {
   "cell_type": "code",
   "execution_count": null,
   "metadata": {},
   "outputs": [],
   "source": [
    "# Reset printoptions to default\n",
    "np.set_printoptions(suppress=False)\n",
    "\n",
    "# Create the random array\n",
    "np.random.seed(100)\n",
    "rand_arr = np.random.random([3,3])/1e3\n",
    "\n",
    "# output\n",
    " array([[  5.434049e-04,   2.783694e-04,   4.245176e-04],\n",
    "        [  8.447761e-04,   4.718856e-06,   1.215691e-04],\n",
    "        [  6.707491e-04,   8.258528e-04,   1.367066e-04]])\n",
    "        \n",
    "np.set_printoptions(suppress=True, precision=6)  # precision is optional\n",
    "rand_arr\n",
    "\n",
    "# output\n",
    " array([[ 0.000543,  0.000278,  0.000425],\n",
    "        [ 0.000845,  0.000005,  0.000122],\n",
    "        [ 0.000671,  0.000826,  0.000137]])"
   ]
  }
 ],
 "metadata": {
  "language_info": {
   "name": "python"
  },
  "orig_nbformat": 4
 },
 "nbformat": 4,
 "nbformat_minor": 2
}

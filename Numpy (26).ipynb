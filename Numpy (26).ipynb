{
 "cells": [
  {
   "cell_type": "code",
   "execution_count": null,
   "metadata": {},
   "outputs": [],
   "source": [
    "# Input:\n",
    "url = 'https://archive.ics.uci.edu/ml/machine-learning-databases/iris/iris.data'\n",
    "iris_1d = np.genfromtxt(url, delimiter=',', dtype=None)\n",
    "print(iris_1d.shape)\n",
    "\n",
    "# output\n",
    "#> (150,)\n",
    "\n",
    "# Solution:\n",
    "species = np.array([row[4] for row in iris_1d])\n",
    "species[:5]\n",
    "\n",
    "array([b'Iris-setosa', b'Iris-setosa', b'Iris-setosa', b'Iris-setosa',\n",
    "       b'Iris-setosa'],\n",
    "      dtype='|S18')"
   ]
  }
 ],
 "metadata": {
  "language_info": {
   "name": "python"
  },
  "orig_nbformat": 4
 },
 "nbformat": 4,
 "nbformat_minor": 2
}

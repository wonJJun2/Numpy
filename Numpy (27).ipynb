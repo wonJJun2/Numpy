{
 "cells": [
  {
   "cell_type": "code",
   "execution_count": null,
   "metadata": {},
   "outputs": [],
   "source": [
    "# Input:\n",
    "url = 'https://archive.ics.uci.edu/ml/machine-learning-databases/iris/iris.data'\n",
    "iris_1d = np.genfromtxt(url, delimiter=',', dtype=None)\n",
    "\n",
    "# Solution\n",
    "# 1: Convert each row to a list and get the first 4 items\n",
    "iris_2d = np.array([row.tolist()[:4] for row in iris_1d])\n",
    "iris_2d[:4]\n",
    "\n",
    "# 2: Import only the first 4 columns from source url\n",
    "iris_2d = np.genfromtxt(url, delimiter=',', dtype='float', usecols=[0,1,2,3])\n",
    "iris_2d[:4]\n",
    "\n",
    "# output\n",
    "array([[ 5.1,  3.5,  1.4,  0.2],\n",
    "       [ 4.9,  3. ,  1.4,  0.2],\n",
    "       [ 4.7,  3.2,  1.3,  0.2],\n",
    "       [ 4.6,  3.1,  1.5,  0.2]])"
   ]
  }
 ],
 "metadata": {
  "language_info": {
   "name": "python"
  },
  "orig_nbformat": 4
 },
 "nbformat": 4,
 "nbformat_minor": 2
}

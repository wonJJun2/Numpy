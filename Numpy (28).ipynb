{
 "cells": [
  {
   "cell_type": "code",
   "execution_count": null,
   "metadata": {},
   "outputs": [],
   "source": [
    "# Input\n",
    "url = 'https://archive.ics.uci.edu/ml/machine-learning-databases/iris/iris.data'\n",
    "iris = np.genfromtxt(url, delimiter=',', dtype='object')\n",
    "sepallength = np.genfromtxt(url, delimiter=',', dtype='float', usecols=[0])\n",
    "\n",
    "# Solution\n",
    "mu, med, sd = np.mean(sepallength), np.median(sepallength), np.std(sepallength)\n",
    "print(mu, med, sd)\n",
    "\n",
    "# output\n",
    "5.84333333333 5.8 0.825301291785"
   ]
  }
 ],
 "metadata": {
  "language_info": {
   "name": "python"
  },
  "orig_nbformat": 4
 },
 "nbformat": 4,
 "nbformat_minor": 2
}

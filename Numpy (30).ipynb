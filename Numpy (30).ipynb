{
 "cells": [
  {
   "cell_type": "code",
   "execution_count": null,
   "metadata": {},
   "outputs": [],
   "source": [
    "# Input\n",
    "url = 'https://archive.ics.uci.edu/ml/machine-learning-databases/iris/iris.data'\n",
    "iris = np.genfromtxt(url, delimiter=',', dtype='object')\n",
    "sepallength = np.array([float(row[0]) for row in iris])\n",
    "\n",
    "# Solution\n",
    "def softmax(x):\n",
    "    \"\"\"Compute softmax values for each sets of scores in x.\n",
    "    https://stackoverflow.com/questions/34968722/how-to-implement-the-softmax-function-in-python\"\"\"\n",
    "    e_x = np.exp(x - np.max(x))\n",
    "    return e_x / e_x.sum(axis=0)\n",
    "\n",
    "print(softmax(sepallength))\n",
    "\n",
    "# output\n",
    "[ 0.002  0.002  0.001  0.001  0.002  0.003  0.001  0.002  0.001  0.002\n",
    "   0.003  0.002  0.002  0.001  0.004  0.004  0.003  0.002  0.004  0.002\n",
    "   0.003  0.002  0.001  0.002  0.002  0.002  0.002  0.002  0.002  0.001\n",
    "   0.002  0.003  0.002  0.003  0.002  0.002  0.003  0.002  0.001  0.002\n",
    "   0.002  0.001  0.001  0.002  0.002  0.002  0.002  0.001  0.003  0.002\n",
    "   0.015  0.008  0.013  0.003  0.009  0.004  0.007  0.002  0.01   0.002\n",
    "   0.002  0.005  0.005  0.006  0.004  0.011  0.004  0.004  0.007  0.004\n",
    "   0.005  0.006  0.007  0.006  0.008  0.01   0.012  0.011  0.005  0.004\n",
    "   0.003  0.003  0.004  0.005  0.003  0.005  0.011  0.007  0.004  0.003\n",
    "   0.003  0.006  0.004  0.002  0.004  0.004  0.004  0.007  0.002  0.004\n",
    "   0.007  0.004  0.016  0.007  0.009  0.027  0.002  0.02   0.011  0.018\n",
    "   0.009  0.008  0.012  0.004  0.004  0.008  0.009  0.03   0.03   0.005\n",
    "   0.013  0.004  0.03   0.007  0.011  0.018  0.007  0.006  0.008  0.018\n",
    "   0.022  0.037  0.008  0.007  0.006  0.03   0.007  0.008  0.005  0.013\n",
    "   0.011  0.013  0.004  0.012  0.011  0.011  0.007  0.009  0.007  0.005]"
   ]
  }
 ],
 "metadata": {
  "language_info": {
   "name": "python"
  },
  "orig_nbformat": 4
 },
 "nbformat": 4,
 "nbformat_minor": 2
}

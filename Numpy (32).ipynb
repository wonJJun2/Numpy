{
 "cells": [
  {
   "cell_type": "code",
   "execution_count": null,
   "metadata": {},
   "outputs": [],
   "source": [
    "# Input\n",
    "url = 'https://archive.ics.uci.edu/ml/machine-learning-databases/iris/iris.data'\n",
    "iris_2d = np.genfromtxt(url, delimiter=',', dtype='object')\n",
    "\n",
    "# 1\n",
    "i, j = np.where(iris_2d)\n",
    "\n",
    "# i, j contain the row numbers and column numbers of 600 elements of iris_x\n",
    "np.random.seed(100)\n",
    "iris_2d[np.random.choice((i), 20), np.random.choice((j), 20)] = np.nan\n",
    "\n",
    "# 2\n",
    "np.random.seed(100)\n",
    "iris_2d[np.random.randint(150, size=20), np.random.randint(4, size=20)] = np.nan\n",
    "\n",
    "# Print first 10 rows\n",
    "print(iris_2d[:10])\n",
    "\n",
    "# output\n",
    " [[b'5.1' b'3.5' b'1.4' b'0.2' b'Iris-setosa']\n",
    "  [b'4.9' b'3.0' b'1.4' b'0.2' b'Iris-setosa']\n",
    "  [b'4.7' b'3.2' b'1.3' b'0.2' b'Iris-setosa']\n",
    "  [b'4.6' b'3.1' b'1.5' b'0.2' b'Iris-setosa']\n",
    "  [b'5.0' b'3.6' b'1.4' b'0.2' b'Iris-setosa']\n",
    "  [b'5.4' b'3.9' b'1.7' b'0.4' b'Iris-setosa']\n",
    "  [b'4.6' b'3.4' b'1.4' b'0.3' b'Iris-setosa']\n",
    "  [b'5.0' b'3.4' b'1.5' b'0.2' b'Iris-setosa']\n",
    "  [b'4.4' nan b'1.4' b'0.2' b'Iris-setosa']\n",
    "  [b'4.9' b'3.1' b'1.5' b'0.1' b'Iris-setosa']]"
   ]
  }
 ],
 "metadata": {
  "language_info": {
   "name": "python"
  },
  "orig_nbformat": 4
 },
 "nbformat": 4,
 "nbformat_minor": 2
}

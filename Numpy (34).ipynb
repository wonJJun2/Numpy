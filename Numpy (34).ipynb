{
 "cells": [
  {
   "cell_type": "code",
   "execution_count": null,
   "metadata": {},
   "outputs": [],
   "source": [
    "# Input\n",
    "url = 'https://archive.ics.uci.edu/ml/machine-learning-databases/iris/iris.data'\n",
    "iris_2d = np.genfromtxt(url, delimiter=',', dtype='float', usecols=[0,1,2,3])\n",
    "\n",
    "# Solution\n",
    "condition = (iris_2d[:, 2] > 1.5) & (iris_2d[:, 0] < 5.0)\n",
    "iris_2d[condition]\n",
    "\n",
    "# output\n",
    " array([[ 4.8,  3.4,  1.6,  0.2],\n",
    "        [ 4.8,  3.4,  1.9,  0.2],\n",
    "        [ 4.7,  3.2,  1.6,  0.2],\n",
    "        [ 4.8,  3.1,  1.6,  0.2],\n",
    "        [ 4.9,  2.4,  3.3,  1. ],\n",
    "        [ 4.9,  2.5,  4.5,  1.7]])"
   ]
  }
 ],
 "metadata": {
  "language_info": {
   "name": "python"
  },
  "orig_nbformat": 4
 },
 "nbformat": 4,
 "nbformat_minor": 2
}

{
 "cells": [
  {
   "cell_type": "code",
   "execution_count": null,
   "metadata": {},
   "outputs": [],
   "source": [
    "# Input\n",
    "url = 'https://archive.ics.uci.edu/ml/machine-learning-databases/iris/iris.data'\n",
    "iris_2d = np.genfromtxt(url, delimiter=',', dtype='float', usecols=[0,1,2,3])\n",
    "iris_2d[np.random.randint(150, size=20), np.random.randint(4, size=20)] = np.nan\n",
    "\n",
    "# Solution\n",
    "# No direct numpy function for this.\n",
    "# 1:\n",
    "any_nan_in_row = np.array([~np.any(np.isnan(row)) for row in iris_2d])\n",
    "iris_2d[any_nan_in_row][:5]\n",
    "\n",
    "# 2: (By Rong)\n",
    "iris_2d[np.sum(np.isnan(iris_2d), axis = 1) == 0][:5]\n",
    "\n",
    "# output\n",
    " array([[ 4.9,  3. ,  1.4,  0.2],\n",
    "        [ 4.7,  3.2,  1.3,  0.2],\n",
    "        [ 4.6,  3.1,  1.5,  0.2],\n",
    "        [ 5. ,  3.6,  1.4,  0.2],\n",
    "        [ 5.4,  3.9,  1.7,  0.4]])"
   ]
  }
 ],
 "metadata": {
  "language_info": {
   "name": "python"
  },
  "orig_nbformat": 4
 },
 "nbformat": 4,
 "nbformat_minor": 2
}

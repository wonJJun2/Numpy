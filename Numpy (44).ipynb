{
 "cells": [
  {
   "cell_type": "code",
   "execution_count": null,
   "metadata": {},
   "outputs": [],
   "source": [
    "# Sort by column position 0: SepalLength\n",
    "print(iris[iris[:,0].argsort()][:20])\n",
    " [[b'4.3' b'3.0' b'1.1' b'0.1' b'Iris-setosa']\n",
    "  [b'4.4' b'3.2' b'1.3' b'0.2' b'Iris-setosa']\n",
    "  [b'4.4' b'3.0' b'1.3' b'0.2' b'Iris-setosa']\n",
    "  [b'4.4' b'2.9' b'1.4' b'0.2' b'Iris-setosa']\n",
    "  [b'4.5' b'2.3' b'1.3' b'0.3' b'Iris-setosa']\n",
    "  [b'4.6' b'3.6' b'1.0' b'0.2' b'Iris-setosa']\n",
    "  [b'4.6' b'3.1' b'1.5' b'0.2' b'Iris-setosa']\n",
    "  [b'4.6' b'3.4' b'1.4' b'0.3' b'Iris-setosa']\n",
    "  [b'4.6' b'3.2' b'1.4' b'0.2' b'Iris-setosa']\n",
    "  [b'4.7' b'3.2' b'1.3' b'0.2' b'Iris-setosa']\n",
    "  [b'4.7' b'3.2' b'1.6' b'0.2' b'Iris-setosa']\n",
    "  [b'4.8' b'3.0' b'1.4' b'0.1' b'Iris-setosa']\n",
    "  [b'4.8' b'3.0' b'1.4' b'0.3' b'Iris-setosa']\n",
    "  [b'4.8' b'3.4' b'1.9' b'0.2' b'Iris-setosa']\n",
    "  [b'4.8' b'3.4' b'1.6' b'0.2' b'Iris-setosa']\n",
    "  [b'4.8' b'3.1' b'1.6' b'0.2' b'Iris-setosa']\n",
    "  [b'4.9' b'2.4' b'3.3' b'1.0' b'Iris-versicolor']\n",
    "  [b'4.9' b'2.5' b'4.5' b'1.7' b'Iris-virginica']\n",
    "  [b'4.9' b'3.1' b'1.5' b'0.1' b'Iris-setosa']\n",
    "  [b'4.9' b'3.1' b'1.5' b'0.1' b'Iris-setosa']]"
   ]
  }
 ],
 "metadata": {
  "language_info": {
   "name": "python"
  },
  "orig_nbformat": 4
 },
 "nbformat": 4,
 "nbformat_minor": 2
}

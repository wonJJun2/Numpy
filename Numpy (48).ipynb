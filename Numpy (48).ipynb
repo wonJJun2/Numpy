{
 "cells": [
  {
   "cell_type": "code",
   "execution_count": null,
   "metadata": {},
   "outputs": [],
   "source": [
    "# Input\n",
    "np.random.seed(100)\n",
    "a = np.random.uniform(1,50, 20)\n",
    "\n",
    "# 1\n",
    "print(a.argsort())\n",
    "\n",
    "# output\n",
    "[18 7 3 10 15]\n",
    "\n",
    "# 2\n",
    "np.argpartition(-a, 5)[:5]\n",
    "\n",
    "# output\n",
    "[15 10  3  7 18]\n",
    "\n",
    "# Below methods will get you the values.\n",
    "# 1:\n",
    "a[a.argsort()][-5:]\n",
    "\n",
    "# 2:\n",
    "np.sort(a)[-5:]\n",
    "\n",
    "# 3:\n",
    "np.partition(a, kth=-5)[-5:]\n",
    "\n",
    "# 4:\n",
    "a[np.argpartition(-a, 5)][:5]"
   ]
  }
 ],
 "metadata": {
  "language_info": {
   "name": "python"
  },
  "orig_nbformat": 4
 },
 "nbformat": 4,
 "nbformat_minor": 2
}

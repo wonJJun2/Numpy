{
 "cells": [
  {
   "cell_type": "code",
   "execution_count": null,
   "metadata": {},
   "outputs": [],
   "source": [
    "# Input:\n",
    "np.random.seed(100)\n",
    "arr = np.random.randint(1,11,size=(6, 10))\n",
    "arr\n",
    "\n",
    "# output\n",
    "\n",
    " array([[ 9,  9,  4,  8,  8,  1,  5,  3,  6,  3],\n",
    "        [ 3,  3,  2,  1,  9,  5,  1, 10,  7,  3],\n",
    "        [ 5,  2,  6,  4,  5,  5,  4,  8,  2,  2],\n",
    "        [ 8,  8,  1,  3, 10, 10,  4,  3,  6,  9],\n",
    "        [ 2,  1,  8,  7,  3,  1,  9,  3,  6,  2],\n",
    "        [ 9,  2,  6,  5,  3,  9,  4,  6,  1, 10]])\n",
    "        \n",
    "# Solution\n",
    "def counts_of_all_values_rowwise(arr2d):\n",
    "    # Unique values and its counts row wise\n",
    "    num_counts_array = [np.unique(row, return_counts=True) for row in arr2d]\n",
    "\n",
    "    # Counts of all values row wise\n",
    "    return([[int(b[a==i]) if i in a else 0 for i in np.unique(arr2d)] for a, b in num_counts_array])\n",
    " \n",
    "print(np.arange(1,11))\n",
    "# output\n",
    "\n",
    "[ 1  2  3  4  5  6  7  8  9 10]\n",
    "\n",
    "counts_of_all_values_rowwise(arr)\n",
    "\n",
    "# output\n",
    "\n",
    "[[1, 0, 2, 1, 1, 1, 0, 2, 2, 0],\n",
    "  [2, 1, 3, 0, 1, 0, 1, 0, 1, 1],\n",
    "  [0, 3, 0, 2, 3, 1, 0, 1, 0, 0],\n",
    "  [1, 0, 2, 1, 0, 1, 0, 2, 1, 2],\n",
    "  [2, 2, 2, 0, 0, 1, 1, 1, 1, 0],\n",
    "  [1, 1, 1, 1, 1, 2, 0, 0, 2, 1]]"
   ]
  }
 ],
 "metadata": {
  "language_info": {
   "name": "python"
  },
  "orig_nbformat": 4
 },
 "nbformat": 4,
 "nbformat_minor": 2
}

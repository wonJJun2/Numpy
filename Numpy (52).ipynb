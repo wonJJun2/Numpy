{
 "cells": [
  {
   "cell_type": "code",
   "execution_count": null,
   "metadata": {},
   "outputs": [],
   "source": [
    "# Input:\n",
    "url = 'https://archive.ics.uci.edu/ml/machine-learning-databases/iris/iris.data'\n",
    "species = np.genfromtxt(url, delimiter=',', dtype='str', usecols=4)\n",
    "np.random.seed(100)\n",
    "species_small = np.sort(np.random.choice(species, size=20))\n",
    "species_small\n",
    "\n",
    " array(['Iris-setosa', 'Iris-setosa', 'Iris-setosa', 'Iris-setosa',\n",
    "        'Iris-setosa', 'Iris-versicolor', 'Iris-versicolor',\n",
    "        'Iris-versicolor', 'Iris-versicolor', 'Iris-versicolor',\n",
    "        'Iris-versicolor', 'Iris-versicolor', 'Iris-versicolor',\n",
    "        'Iris-versicolor', 'Iris-virginica', 'Iris-virginica',\n",
    "        'Iris-virginica', 'Iris-virginica', 'Iris-virginica',\n",
    "        'Iris-virginica'],\n",
    "       dtype='<U15')\n",
    "       \n",
    "# solution\n",
    "print([i for val in np.unique(species_small) for i, grp in enumerate(species_small[species_small==val])])\n",
    "\n",
    "# output\n",
    "[0, 1, 2, 3, 4, 0, 1, 2, 3, 4, 5, 6, 7, 8, 0, 1, 2, 3, 4, 5]"
   ]
  }
 ],
 "metadata": {
  "kernelspec": {
   "display_name": "Python 3.9.1 64-bit",
   "language": "python",
   "name": "python3"
  },
  "language_info": {
   "name": "python",
   "version": "3.9.1"
  },
  "orig_nbformat": 4,
  "vscode": {
   "interpreter": {
    "hash": "cf92aa13fedf815d5c8dd192b8d835913fde3e8bc926b2a0ad6cc74ef2ba3ca2"
   }
  }
 },
 "nbformat": 4,
 "nbformat_minor": 2
}

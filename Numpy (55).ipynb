{
 "cells": [
  {
   "cell_type": "code",
   "execution_count": null,
   "metadata": {},
   "outputs": [],
   "source": [
    "# Input:\n",
    "np.random.seed(10)\n",
    "a = np.random.randint(20, size=[2,5])\n",
    "print(a)\n",
    "\n",
    "# Solution\n",
    "print(a.ravel().argsort().argsort().reshape(a.shape))\n",
    "\n",
    "# output\n",
    " [[ 9  4 15  0 17]\n",
    "  [16 17  8  9  0]]\n",
    " [[4 2 6 0 8]\n",
    "  [7 9 3 5 1]]"
   ]
  }
 ],
 "metadata": {
  "language_info": {
   "name": "python"
  },
  "orig_nbformat": 4
 },
 "nbformat": 4,
 "nbformat_minor": 2
}

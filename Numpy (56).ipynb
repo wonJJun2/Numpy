{
 "cells": [
  {
   "cell_type": "code",
   "execution_count": null,
   "metadata": {},
   "outputs": [],
   "source": [
    "# Input\n",
    "np.random.seed(100)\n",
    "a = np.random.randint(1,10, [5,3])\n",
    "a\n",
    "\n",
    "# 1\n",
    "np.amax(a, axis=1)\n",
    "\n",
    "# 2\n",
    "np.apply_along_axis(np.max, arr=a, axis=1)\n",
    "\n",
    "# output\n",
    "array([9, 8, 6, 3, 9])"
   ]
  }
 ],
 "metadata": {
  "language_info": {
   "name": "python"
  },
  "orig_nbformat": 4
 },
 "nbformat": 4,
 "nbformat_minor": 2
}

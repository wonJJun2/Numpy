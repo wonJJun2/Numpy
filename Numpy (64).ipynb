{
 "cells": [
  {
   "cell_type": "code",
   "execution_count": null,
   "metadata": {},
   "outputs": [],
   "source": [
    "# Input\n",
    "a_2d = np.array([[3,3,3],[4,4,4],[5,5,5]])\n",
    "b_1d = np.array([1,2,3])\n",
    "\n",
    "# Solution\n",
    "print(a_2d - b_1d[:,None])\n",
    "\n",
    "# output\n",
    "[[2 2 2]\n",
    " [2 2 2]\n",
    " [2 2 2]]"
   ]
  }
 ],
 "metadata": {
  "language_info": {
   "name": "python"
  },
  "orig_nbformat": 4
 },
 "nbformat": 4,
 "nbformat_minor": 2
}

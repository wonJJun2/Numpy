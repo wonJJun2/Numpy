{
 "cells": [
  {
   "cell_type": "code",
   "execution_count": null,
   "metadata": {},
   "outputs": [],
   "source": [
    "x = np.array([1, 2, 1, 1, 3, 4, 3, 1, 1, 2, 1, 1, 2])\n",
    "n = 5\n",
    "\n",
    "# 1: List comprehension\n",
    "[i for i, v in enumerate(x) if v == 1][n-1]\n",
    "\n",
    "# 2: Numpy version\n",
    "np.where(x == 1)[0][n-1]\n",
    "\n",
    "# output\n",
    "8"
   ]
  }
 ],
 "metadata": {
  "language_info": {
   "name": "python"
  },
  "orig_nbformat": 4
 },
 "nbformat": 4,
 "nbformat_minor": 2
}

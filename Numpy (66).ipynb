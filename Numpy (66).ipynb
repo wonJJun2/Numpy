{
 "cells": [
  {
   "cell_type": "code",
   "execution_count": null,
   "metadata": {},
   "outputs": [],
   "source": [
    "# Input: a numpy datetime64 object\n",
    "dt64 = np.datetime64('2018-02-25 22:10:10')\n",
    "\n",
    "# 1\n",
    "from datetime import datetime\n",
    "dt64.tolist()\n",
    "\n",
    "# 2\n",
    "dt64.astype(datetime)\n",
    "\n",
    "# output\n",
    "datetime.datetime(2018, 2, 25, 22, 10, 10)"
   ]
  }
 ],
 "metadata": {
  "language_info": {
   "name": "python"
  },
  "orig_nbformat": 4
 },
 "nbformat": 4,
 "nbformat_minor": 2
}

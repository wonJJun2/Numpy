{
 "cells": [
  {
   "cell_type": "code",
   "execution_count": null,
   "metadata": {},
   "outputs": [],
   "source": [
    "# Create an array\n",
    "import numpy as np\n",
    "arr_rand = np.array([8, 8, 3, 7, 7, 0, 4, 2, 5, 2])\n",
    "print(\"Array: \", arr_rand)\n",
    "\n",
    "# Positions where value > 5\n",
    "index_gt5 = np.where(arr_rand > 5)\n",
    "print(\"Positions where value > 5: \", index_gt5)\n",
    "\n",
    "# output\n",
    "Array:  [8 8 3 7 7 0 4 2 5 2]\n",
    "Positions where value > 5:  (array([0, 1, 3, 4]),)\n",
    "\n",
    "# Take items at given index\n",
    "arr_rand.take(index_gt5)\n",
    "\n",
    "# output\n",
    "array([[8, 8, 7, 7]])\n",
    "\n",
    "# If value > 5, then yield 'gt5' else 'le5'\n",
    "np.where(arr_rand > 5, 'gt5', 'le5')\n",
    "\n",
    "# output\n",
    "array(['gt5', 'gt5', 'le5', 'gt5', 'gt5', 'le5', 'le5', 'le5', 'le5', 'le5'],\n",
    "      dtype='<U3')\n",
    "\n",
    "# Location of the max\n",
    "print('Position of max value: ', np.argmax(arr_rand))  \n",
    "\n",
    "# Location of the min\n",
    "print('Position of min value: ', np.argmin(arr_rand))  \n",
    "\n",
    "# output\n",
    "Position of max value:  0\n",
    "Position of min value:  5"
   ]
  }
 ],
 "metadata": {
  "language_info": {
   "name": "python"
  },
  "orig_nbformat": 4
 },
 "nbformat": 4,
 "nbformat_minor": 2
}

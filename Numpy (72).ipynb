{
 "cells": [
  {
   "cell_type": "code",
   "execution_count": null,
   "metadata": {},
   "outputs": [],
   "source": [
    "# Turn off scientific notation\n",
    "np.set_printoptions(suppress=True)  \n",
    "\n",
    "# Import data from csv file url\n",
    "path = 'https://raw.githubusercontent.com/selva86/datasets/master/Auto.csv'\n",
    "data = np.genfromtxt(path, delimiter=',', skip_header=1, filling_values=-999, dtype='float')\n",
    "data[:3]  # see first 3 rows\n",
    "\n",
    "# output\n",
    " array([[   18. ,     8. ,   307. ,   130. ,  3504. ,    12. ,    70. ,\n",
    "             1. ,  -999. ],\n",
    "        [   15. ,     8. ,   350. ,   165. ,  3693. ,    11.5,    70. ,\n",
    "             1. ,  -999. ],\n",
    "        [   18. ,     8. ,   318. ,   150. ,  3436. ,    11. ,    70. ,\n",
    "             1. ,  -999. ]])"
   ]
  }
 ],
 "metadata": {
  "language_info": {
   "name": "python"
  },
  "orig_nbformat": 4
 },
 "nbformat": 4,
 "nbformat_minor": 2
}

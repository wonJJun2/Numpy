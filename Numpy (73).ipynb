{
 "cells": [
  {
   "cell_type": "code",
   "execution_count": null,
   "metadata": {},
   "outputs": [],
   "source": [
    "# data2 = np.genfromtxt(path, delimiter=',', skip_header=1, dtype='object')\n",
    "data2 = np.genfromtxt(path, delimiter=',', skip_header=1, dtype=None)\n",
    "data2[:3]  # see first 3 rows\n",
    "\n",
    "# output\n",
    " array([( 18., 8,  307., 130, 3504,  12. , 70, 1, b'\"chevrolet chevelle malibu\"'),\n",
    "        ( 15., 8,  350., 165, 3693,  11.5, 70, 1, b'\"buick skylark 320\"'),\n",
    "        ( 18., 8,  318., 150, 3436,  11. , 70, 1, b'\"plymouth satellite\"')],\n",
    "       dtype=[('f0', '<f8'), ('f1', '<i8'), ('f2', '<f8'), ('f3', '<i8'), ('f4', '<i8'), ('f5', '<f8'), ('f6', '<i8'), ('f7', '<i8'), ('f8', 'S38')])\n",
    "\n",
    "# Save the array as a csv file\n",
    "np.savetxt(\"out.csv\", data, delimiter=\",\")\n"
   ]
  }
 ],
 "metadata": {
  "language_info": {
   "name": "python"
  },
  "orig_nbformat": 4
 },
 "nbformat": 4,
 "nbformat_minor": 2
}

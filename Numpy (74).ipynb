{
 "cells": [
  {
   "cell_type": "code",
   "execution_count": null,
   "metadata": {},
   "outputs": [],
   "source": [
    "# Save single numpy array object as .npy file\n",
    "np.save('myarray.npy', arr2d)  \n",
    "\n",
    "# Save multile numy arrays as a .npz file\n",
    "np.savez('array.npz', arr2d_f, arr2d_b)\n",
    "\n",
    "# Load a .npy file\n",
    "a = np.load('myarray.npy')\n",
    "print(a)\n",
    "\n",
    "# output\n",
    " [[0 1 2]\n",
    "  [3 4 5]\n",
    "  [6 7 8]]\n",
    "\n",
    "# Load a .npz file\n",
    "b = np.load('array.npz')\n",
    "print(b.files)\n",
    "b['arr_0']\n",
    "\n",
    "# output\n",
    " ['arr_0', 'arr_1']\n",
    "\n",
    " array([[ 0.,  1.,  2.],\n",
    "        [ 3.,  4.,  5.],\n",
    "        [ 6.,  7.,  8.]])"
   ]
  }
 ],
 "metadata": {
  "language_info": {
   "name": "python"
  },
  "orig_nbformat": 4
 },
 "nbformat": 4,
 "nbformat_minor": 2
}

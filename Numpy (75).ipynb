{
 "cells": [
  {
   "cell_type": "code",
   "execution_count": null,
   "metadata": {},
   "outputs": [],
   "source": [
    "a = np.zeros([4, 4])\n",
    "b = np.ones([4, 4])\n",
    "print(a)\n",
    "print(b)\n",
    "\n",
    " [[ 0.  0.  0.  0.]\n",
    "  [ 0.  0.  0.  0.]\n",
    "  [ 0.  0.  0.  0.]\n",
    "  [ 0.  0.  0.  0.]]\n",
    "\n",
    " [[ 1.  1.  1.  1.]\n",
    "  [ 1.  1.  1.  1.]\n",
    "  [ 1.  1.  1.  1.]\n",
    "  [ 1.  1.  1.  1.]]\n",
    "\n",
    "# Vertical Stack Equivalents (Row wise)\n",
    "np.concatenate([a, b], axis=0)  \n",
    "np.vstack([a,b])  \n",
    "np.r_[a,b]  \n",
    "\n",
    " array([[ 0.,  0.,  0.,  0.],\n",
    "        [ 0.,  0.,  0.,  0.],\n",
    "        [ 0.,  0.,  0.,  0.],\n",
    "        [ 0.,  0.,  0.,  0.],\n",
    "        [ 1.,  1.,  1.,  1.],\n",
    "        [ 1.,  1.,  1.,  1.],\n",
    "        [ 1.,  1.,  1.,  1.],\n",
    "        [ 1.,  1.,  1.,  1.]])\n",
    "\n",
    "# Horizontal Stack Equivalents (Coliumn wise)\n",
    "np.concatenate([a, b], axis=1) \n",
    "np.hstack([a,b])  \n",
    "np.c_[a,b]\n",
    "\n",
    " array([[ 0.,  0.,  0.,  0.,  1.,  1.,  1.,  1.],\n",
    "        [ 0.,  0.,  0.,  0.,  1.,  1.,  1.,  1.],\n",
    "        [ 0.,  0.,  0.,  0.,  1.,  1.,  1.,  1.],\n",
    "        [ 0.,  0.,  0.,  0.,  1.,  1.,  1.,  1.]])\n",
    "\n",
    "np.r_[[1,2,3], 0, 0, [4,5,6]]\n",
    "array([1, 2, 3, 0, 0, 4, 5, 6])\n"
   ]
  }
 ],
 "metadata": {
  "kernelspec": {
   "display_name": "Python 3.9.1 64-bit",
   "language": "python",
   "name": "python3"
  },
  "language_info": {
   "name": "python",
   "version": "3.9.1"
  },
  "orig_nbformat": 4,
  "vscode": {
   "interpreter": {
    "hash": "cf92aa13fedf815d5c8dd192b8d835913fde3e8bc926b2a0ad6cc74ef2ba3ca2"
   }
  }
 },
 "nbformat": 4,
 "nbformat_minor": 2
}

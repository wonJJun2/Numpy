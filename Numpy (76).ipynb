{
 "cells": [
  {
   "cell_type": "code",
   "execution_count": null,
   "metadata": {},
   "outputs": [],
   "source": [
    "arr = np.random.randint(1,6, size=[8, 4])\n",
    "arr\n",
    "\n",
    "# output\n",
    " array([[3, 3, 2, 1],\n",
    "        [1, 5, 4, 5],\n",
    "        [3, 1, 4, 2],\n",
    "        [3, 4, 5, 5],\n",
    "        [2, 4, 5, 5],\n",
    "        [4, 4, 4, 2],\n",
    "        [2, 4, 1, 3],\n",
    "        [2, 2, 4, 3]])\n",
    "\n",
    "# Sort each columns of arr\n",
    "np.sort(arr, axis=0)\n",
    "\n",
    "# output\n",
    " array([[1, 1, 1, 1],\n",
    "        [2, 2, 2, 2],\n",
    "        [2, 3, 4, 2],\n",
    "        [2, 4, 4, 3],\n",
    "        [3, 4, 4, 3],\n",
    "        [3, 4, 4, 5],\n",
    "        [3, 4, 5, 5],\n",
    "        [4, 5, 5, 5]])"
   ]
  }
 ],
 "metadata": {
  "language_info": {
   "name": "python"
  },
  "orig_nbformat": 4
 },
 "nbformat": 4,
 "nbformat_minor": 2
}

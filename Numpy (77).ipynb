{
 "cells": [
  {
   "cell_type": "code",
   "execution_count": null,
   "metadata": {},
   "outputs": [],
   "source": [
    "x = np.array([1, 10, 5, 2, 8, 9])\n",
    "sort_index = np.argsort(x)\n",
    "print(sort_index)\n",
    "\n",
    "# output\n",
    "[0 3 2 4 5 1]\n",
    "\n",
    "x[sort_index]\n",
    "\n",
    "# output\n",
    "array([ 1,  2,  5,  8,  9, 10])\n",
    "\n",
    "# Argsort the first column\n",
    "sorted_index_1stcol = arr[:, 0].argsort()\n",
    "\n",
    "# Sort 'arr' by first column without disturbing the integrity of rows\n",
    "arr[sorted_index_1stcol]\n",
    "\n",
    "# output\n",
    " array([[1, 5, 4, 5],\n",
    "        [2, 4, 5, 5],\n",
    "        [2, 4, 1, 3],\n",
    "        [2, 2, 4, 3],\n",
    "        [3, 3, 2, 1],\n",
    "        [3, 1, 4, 2],\n",
    "        [3, 4, 5, 5],\n",
    "        [4, 4, 4, 2]])\n",
    "\n",
    "# Descending sort\n",
    "arr[sorted_index_1stcol[::-1]]\n",
    "\n",
    "# output\n",
    " array([[4, 4, 4, 2],\n",
    "        [3, 4, 5, 5],\n",
    "        [3, 1, 4, 2],\n",
    "        [3, 3, 2, 1],\n",
    "        [2, 2, 4, 3],\n",
    "        [2, 4, 1, 3],\n",
    "        [2, 4, 5, 5],\n",
    "        [1, 5, 4, 5]])"
   ]
  }
 ],
 "metadata": {
  "language_info": {
   "name": "python"
  },
  "orig_nbformat": 4
 },
 "nbformat": 4,
 "nbformat_minor": 2
}

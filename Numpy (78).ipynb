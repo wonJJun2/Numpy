{
 "cells": [
  {
   "cell_type": "code",
   "execution_count": null,
   "metadata": {},
   "outputs": [],
   "source": [
    "# Create a datetime64 object\n",
    "date64 = np.datetime64('2018-02-04 23:10:10')\n",
    "date64\n",
    "\n",
    "# output\n",
    "numpy.datetime64('2018-02-04T23:10:10')\n",
    "\n",
    "# Drop the time part from the datetime64 object\n",
    "dt64 = np.datetime64(date64, 'D')\n",
    "dt64\n",
    "\n",
    "# output\n",
    "numpy.datetime64('2018-02-04')\n",
    "\n",
    "# Create the timedeltas (individual units of time)\n",
    "tenminutes = np.timedelta64(10, 'm')  # 10 minutes\n",
    "tenseconds = np.timedelta64(10, 's')  # 10 seconds\n",
    "tennanoseconds = np.timedelta64(10, 'ns')  # 10 nanoseconds\n",
    "\n",
    "print('Add 10 days: ', dt64 + 10)\n",
    "print('Add 10 minutes: ', dt64 + tenminutes)\n",
    "print('Add 10 seconds: ', dt64 + tenseconds)\n",
    "print('Add 10 nanoseconds: ', dt64 + tennanoseconds)\n",
    "\n",
    "# output\n",
    " Add 10 days:  2018-02-14\n",
    " Add 10 minutes:  2018-02-04T00:10\n",
    " Add 10 seconds:  2018-02-04T00:00:10\n",
    " Add 10 nanoseconds:  2018-02-04T00:00:00.000000010\n",
    "\n",
    "# Convert np.datetime64 back to a string\n",
    "np.datetime_as_string(dt64)\n",
    "\n",
    "# output\n",
    "'2018-02-04'\n",
    "\n",
    "print('Date: ', dt64)\n",
    "print(\"Is it a business day?: \", np.is_busday(dt64))  \n",
    "print(\"Add 2 business days, rolling forward to nearest biz day: \", np.busday_offset(dt64, 2, roll='forward'))  \n",
    "print(\"Add 2 business days, rolling backward to nearest biz day: \", np.busday_offset(dt64, 2, roll='backward'))\n",
    "\n",
    "# output\n",
    " Date:  2018-02-04\n",
    " Is it a business day?:  False\n",
    " Add 2 business days, rolling forward to nearest biz day:  2018-02-07\n",
    " Add 2 business days, rolling backward to nearest biz day:  2018-02-06"
   ]
  }
 ],
 "metadata": {
  "kernelspec": {
   "display_name": "Python 3.9.1 64-bit",
   "language": "python",
   "name": "python3"
  },
  "language_info": {
   "name": "python",
   "version": "3.9.1"
  },
  "orig_nbformat": 4,
  "vscode": {
   "interpreter": {
    "hash": "cf92aa13fedf815d5c8dd192b8d835913fde3e8bc926b2a0ad6cc74ef2ba3ca2"
   }
  }
 },
 "nbformat": 4,
 "nbformat_minor": 2
}

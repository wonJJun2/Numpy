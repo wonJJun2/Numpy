{
 "cells": [
  {
   "cell_type": "code",
   "execution_count": null,
   "metadata": {},
   "outputs": [],
   "source": [
    "import datetime\n",
    "dt = dt64.tolist()\n",
    "dt\n",
    "\n",
    "# output\n",
    "datetime.date(2018, 2, 4)\n",
    "\n",
    "print('Year: ', dt.year)  \n",
    "print('Day of month: ', dt.day)\n",
    "print('Month of year: ', dt.month)  \n",
    "print('Day of Week: ', dt.weekday())  # Sunday\n",
    "\n",
    "# output\n",
    " Year:  2018\n",
    " Day of month:  4\n",
    " Month of year:  2\n",
    " Day of Week:  6"
   ]
  }
 ],
 "metadata": {
  "language_info": {
   "name": "python"
  },
  "orig_nbformat": 4
 },
 "nbformat": 4,
 "nbformat_minor": 2
}

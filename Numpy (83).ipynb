{
 "cells": [
  {
   "cell_type": "code",
   "execution_count": null,
   "metadata": {},
   "outputs": [],
   "source": [
    "# Create a 4x10 random array\n",
    "np.random.seed(100)\n",
    "arr_x = np.random.randint(1,10,size=[4,10])\n",
    "arr_x\n",
    "\n",
    "# output\n",
    "array([[9, 9, 4, 8, 8, 1, 5, 3, 6, 3],\n",
    "    [3, 3, 2, 1, 9, 5, 1, 7, 3, 5],\n",
    "    [2, 6, 4, 5, 5, 4, 8, 2, 2, 8],\n",
    "    [8, 1, 3, 4, 3, 6, 9, 2, 1, 8]])\n",
    "\n",
    "# Define func1d\n",
    "def max_minus_min(x):\n",
    "    return np.max(x) - np.min(x)\n",
    "\n",
    "# Apply along the rows\n",
    "print('Row wise: ', np.apply_along_axis(max_minus_min, 1, arr=arr_x))\n",
    "\n",
    "# Apply along the columns\n",
    "print('Column wise: ', np.apply_along_axis(max_minus_min, 0, arr=arr_x))\n",
    "\n",
    "# output\n",
    "Row wise:  [8 8 6 8]\n",
    "Column wise:  [7 8 2 7 6 5 8 5 5 5]"
   ]
  }
 ],
 "metadata": {
  "language_info": {
   "name": "python"
  },
  "orig_nbformat": 4
 },
 "nbformat": 4,
 "nbformat_minor": 2
}

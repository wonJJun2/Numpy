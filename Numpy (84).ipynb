{
 "cells": [
  {
   "cell_type": "code",
   "execution_count": null,
   "metadata": {},
   "outputs": [],
   "source": [
    "# example of searchsorted\n",
    "x = np.arange(10)\n",
    "print('Where should 5 be inserted?: ', np.searchsorted(x, 5))\n",
    "print('Where should 5 be inserted (right)?: ', np.searchsorted(x, 5, side='right'))\n",
    "\n",
    "# output\n",
    "Where should 5 be inserted?:  5\n",
    "Where should 5 be inserted (right)?:  6\n",
    "\n",
    "# Randomly choose an item from a list based on a predefined probability\n",
    "lst = range(10000)  # the list\n",
    "probs = np.random.random(10000); probs /= probs.sum()  # probabilities\n",
    "\n",
    "%timeit lst[np.searchsorted(probs.cumsum(), np.random.random())]\n",
    "%timeit np.random.choice(lst, p=probs)\n",
    "\n",
    "# output\n",
    "36.6 ?s ? 3.93 ?s per loop (mean ? std. dev. of 7 runs, 10000 loops each)\n",
    "1.02 ms ? 7.16 ?s per loop (mean ? std. dev. of 7 runs, 1000 loops each)"
   ]
  }
 ],
 "metadata": {
  "language_info": {
   "name": "python"
  },
  "orig_nbformat": 4
 },
 "nbformat": 4,
 "nbformat_minor": 2
}

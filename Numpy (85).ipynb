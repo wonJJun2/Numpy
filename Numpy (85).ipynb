{
 "cells": [
  {
   "cell_type": "code",
   "execution_count": null,
   "metadata": {},
   "outputs": [],
   "source": [
    "# Create a 1D array\n",
    "x = np.arange(5)\n",
    "print('Original array: ', x)\n",
    "\n",
    "#output\n",
    "Original array:  [0 1 2 3 4]\n",
    "\n",
    "# Introduce a new column axis\n",
    "x_col = x[:, np.newaxis]\n",
    "print('x_col shape: ', x_col.shape)\n",
    "print(x_col)\n",
    "\n",
    "#output\n",
    "x_col shape:  (5, 1)\n",
    "[[0]\n",
    "[1]\n",
    "[2]\n",
    "[3]\n",
    "[4]]\n",
    "\n",
    "# Introduce a new row axis\n",
    "x_row = x[np.newaxis, :]\n",
    "print('x_row shape: ', x_row.shape)\n",
    "print(x_row)\n",
    "\n",
    "#output\n",
    "\n",
    "x_row shape:  (1, 5)\n",
    "[[0 1 2 3 4]]"
   ]
  }
 ],
 "metadata": {
  "language_info": {
   "name": "python"
  },
  "orig_nbformat": 4
 },
 "nbformat": 4,
 "nbformat_minor": 2
}

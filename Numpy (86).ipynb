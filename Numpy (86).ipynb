{
 "cells": [
  {
   "cell_type": "code",
   "execution_count": null,
   "metadata": {},
   "outputs": [],
   "source": [
    "# Create the array and bins\n",
    "x = np.arange(10)\n",
    "bins = np.array([0, 3, 6, 9])\n",
    "\n",
    "# Get bin allotments\n",
    "np.digitize(x, bins)\n",
    "\n",
    "# output\n",
    "array([1, 1, 1, 2, 2, 2, 3, 3, 3, 4])\n",
    "\n",
    "# Cap all elements of x to lie between 3 and 8\n",
    "np.clip(x, 3, 8)\n",
    "\n",
    "# output\n",
    "array([3, 3, 3, 3, 4, 5, 6, 7, 8, 8])\n",
    "\n",
    "# Bincount example\n",
    "x = np.array([1,1,2,2,2,4,4,5,6,6,6]) # doesn't need to be sorted\n",
    "np.bincount(x) # 0 occurs 0 times, 1 occurs 2 times, 2 occurs thrice, 3 occurs 0 times, ...\n",
    "\n",
    "# Histogram example\n",
    "counts, bins = np.histogram(x, [0, 2, 4, 6, 8])\n",
    "print('Counts: ', counts)\n",
    "print('Bins: ', bins)\n",
    "\n",
    "# output\n",
    "Counts:  [2 3 3 3]\n",
    "Bins:  [0 2 4 6 8]"
   ]
  }
 ],
 "metadata": {
  "language_info": {
   "name": "python"
  },
  "orig_nbformat": 4
 },
 "nbformat": 4,
 "nbformat_minor": 2
}

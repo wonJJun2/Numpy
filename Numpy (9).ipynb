{
 "cells": [
  {
   "cell_type": "code",
   "execution_count": null,
   "metadata": {},
   "outputs": [],
   "source": [
    "a = np.arange(10).reshape(2,-1)\n",
    "b = np.repeat(1, 10).reshape(2,-1)\n",
    "\n",
    "# Answers\n",
    "# 1:\n",
    "np.concatenate([a, b], axis=1)\n",
    "\n",
    "# 2:\n",
    "np.hstack([a, b])\n",
    "\n",
    "# 3:\n",
    "np.c_[a, b]\n",
    "\n",
    "# output\n",
    "array([[0, 1, 2, 3, 4, 1, 1, 1, 1, 1],\n",
    "       [5, 6, 7, 8, 9, 1, 1, 1, 1, 1]])"
   ]
  }
 ],
 "metadata": {
  "language_info": {
   "name": "python"
  },
  "orig_nbformat": 4
 },
 "nbformat": 4,
 "nbformat_minor": 2
}
